{
 "cells": [
  {
   "cell_type": "code",
   "execution_count": 0,
   "metadata": {
    "application/vnd.databricks.v1+cell": {
     "cellMetadata": {},
     "inputWidgets": {},
     "nuid": "600a1ee4-b0b2-4f42-bc86-f334640d82d1",
     "showTitle": false,
     "tableResultSettingsMap": {},
     "title": ""
    }
   },
   "outputs": [],
   "source": []
  },
  {
   "cell_type": "code",
   "execution_count": 0,
   "metadata": {
    "application/vnd.databricks.v1+cell": {
     "cellMetadata": {},
     "inputWidgets": {},
     "nuid": "5a41d645-c1b9-415c-81b8-2c5d50de66e1",
     "showTitle": false,
     "tableResultSettingsMap": {},
     "title": ""
    }
   },
   "outputs": [],
   "source": []
  },
  {
   "cell_type": "code",
   "execution_count": 0,
   "metadata": {
    "application/vnd.databricks.v1+cell": {
     "cellMetadata": {
      "byteLimit": 2048000,
      "rowLimit": 10000
     },
     "inputWidgets": {},
     "nuid": "1825d765-83f9-4bc0-ab28-b2e7f08ee603",
     "showTitle": false,
     "tableResultSettingsMap": {},
     "title": ""
    }
   },
   "outputs": [],
   "source": [
    "%python\n",
    "df=spark.read.table(\"dev.sailesh_bronze.products\")\n",
    "\n",
    "df1=df.dropDuplicates().dropna().drop(\"ingestion_date\")\n",
    "\n",
    "df1.write.mode(\"overwrite\").saveAsTable(\"dev.sailesh_silver.products_cleaned\")"
   ]
  },
  {
   "cell_type": "code",
   "execution_count": 0,
   "metadata": {
    "application/vnd.databricks.v1+cell": {
     "cellMetadata": {
      "byteLimit": 2048000,
      "rowLimit": 10000
     },
     "inputWidgets": {},
     "nuid": "5201bddc-40c4-48f0-a3c1-da33cb92909d",
     "showTitle": false,
     "tableResultSettingsMap": {},
     "title": ""
    }
   },
   "outputs": [],
   "source": [
    "select * from dev.sailesh_bronze.products"
   ]
  },
  {
   "cell_type": "code",
   "execution_count": 0,
   "metadata": {
    "application/vnd.databricks.v1+cell": {
     "cellMetadata": {
      "byteLimit": 2048000,
      "rowLimit": 10000
     },
     "inputWidgets": {},
     "nuid": "b0ba1f13-b7ac-462a-a354-5f6d68140eeb",
     "showTitle": false,
     "tableResultSettingsMap": {},
     "title": ""
    }
   },
   "outputs": [],
   "source": [
    "create or replace table dev.sailesh_silver.products_scd1 (product_id int , product_name string, price double, category string)"
   ]
  },
  {
   "cell_type": "code",
   "execution_count": 0,
   "metadata": {
    "application/vnd.databricks.v1+cell": {
     "cellMetadata": {
      "byteLimit": 2048000,
      "rowLimit": 10000
     },
     "inputWidgets": {},
     "nuid": "a232a540-225b-47b8-bb99-7749df07ed4e",
     "showTitle": false,
     "tableResultSettingsMap": {},
     "title": ""
    }
   },
   "outputs": [],
   "source": [
    "with deduplicated_source as \n",
    "(\n",
    "  select s.*,\n",
    "  row_number() over(partition by product_id order by seqNum desc) as row_number\n",
    "  from dev.sailesh_bronze.products s\n",
    "  )\n",
    "merge into dev.sailesh_silver.products_scd1 t\n",
    "using (select * from deduplicated_source where row_number =1)s \n",
    "on t.product_id = s.product_id\n",
    "when matched and s.operation=\"DELETE\" \n",
    "then delete\n",
    "when matched and s.operation=\"UPDATE\" then update\n",
    "set \n",
    "t.product_name = s.product_name,\n",
    "t.price = s.product_price,\n",
    "t.category = s.product_category\n",
    "when not matched then insert \n",
    "(t.product_id, t.product_name, t.price, t.category) values (s.product_id, s.product_name, s.product_price, s.product_category)"
   ]
  },
  {
   "cell_type": "code",
   "execution_count": 0,
   "metadata": {
    "application/vnd.databricks.v1+cell": {
     "cellMetadata": {
      "byteLimit": 2048000,
      "rowLimit": 10000
     },
     "inputWidgets": {},
     "nuid": "c2397d8a-cd9b-4eed-9a71-fa97b3b0d8a0",
     "showTitle": false,
     "tableResultSettingsMap": {},
     "title": ""
    }
   },
   "outputs": [],
   "source": [
    "select * from dev.sailesh_silver.products_scd1"
   ]
  },
  {
   "cell_type": "code",
   "execution_count": 0,
   "metadata": {
    "application/vnd.databricks.v1+cell": {
     "cellMetadata": {
      "byteLimit": 2048000,
      "rowLimit": 10000
     },
     "inputWidgets": {},
     "nuid": "02d7ccc4-0513-45d2-b470-fc524df452fa",
     "showTitle": false,
     "tableResultSettingsMap": {},
     "title": ""
    }
   },
   "outputs": [],
   "source": [
    "%python\n",
    "df=spark.read.table(\"dev.sailesh_bronze.sales\")\n",
    "\n",
    "df1=df.dropDuplicates().dropna().drop(\"ingestion_date\")\n",
    "\n",
    "df1.write.mode(\"overwrite\").saveAsTable(\"dev.sailesh_silver.sales_cleaned\")"
   ]
  }
 ],
 "metadata": {
  "application/vnd.databricks.v1+notebook": {
   "computePreferences": null,
   "dashboards": [],
   "environmentMetadata": {
    "base_environment": "",
    "environment_version": "2"
   },
   "inputWidgetPreferences": null,
   "language": "sql",
   "notebookMetadata": {
    "pythonIndentUnit": 4
   },
   "notebookName": "(Clone) Silver",
   "widgets": {}
  },
  "language_info": {
   "name": "sql"
  }
 },
 "nbformat": 4,
 "nbformat_minor": 0
}
